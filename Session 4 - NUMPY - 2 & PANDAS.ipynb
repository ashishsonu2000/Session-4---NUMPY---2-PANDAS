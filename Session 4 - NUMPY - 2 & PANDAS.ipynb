{
 "cells": [
  {
   "cell_type": "markdown",
   "metadata": {},
   "source": [
    "## Session 4"
   ]
  },
  {
   "cell_type": "markdown",
   "metadata": {},
   "source": [
    "### task 1"
   ]
  },
  {
   "cell_type": "markdown",
   "metadata": {},
   "source": [
    "#### Problem Statement:\n",
    "Write a function to find moving average in an array over a window:\n",
    "Test it over [3, 5, 7, 2, 8, 10, 11, 65, 72, 81, 99, 100, 150] and window of 3."
   ]
  },
  {
   "cell_type": "code",
   "execution_count": 7,
   "metadata": {},
   "outputs": [
    {
     "name": "stdout",
     "output_type": "stream",
     "text": [
      "[  4.25   5.5    6.75   7.75  23.5   39.5   57.25  79.25  88.   107.5 ]\n"
     ]
    }
   ],
   "source": [
    "import numpy as np\n",
    "from numpy import convolve\n",
    "import matplotlib.pyplot as plt\n",
    " \n",
    "def movingaverage (values, window):\n",
    "    weights = np.repeat(1.0, window)/window\n",
    "    #print(weights)\n",
    "    ma = np.convolve(values, weights, 'valid')\n",
    "    return ma\n",
    " \n",
    "#x = [10,20,30,40,50,60,70,80,90,100]\n",
    "y = [3, 5, 7, 2, 8, 10, 11, 65, 72, 81, 99, 100, 150]\n",
    " \n",
    "yMA = movingaverage(y,4)\n",
    "print (yMA)   \n",
    "\n"
   ]
  },
  {
   "cell_type": "markdown",
   "metadata": {},
   "source": [
    "### task 2"
   ]
  },
  {
   "cell_type": "markdown",
   "metadata": {},
   "source": [
    "#### 1 <br>\n",
    "How-to-count-distance-to-the-previous-zero <br><br>\n",
    "For each value, count the difference back to the previous zero (or the start of the Series,\n",
    "whichever is closer)<br><br>\n",
    "create a new column 'Y'<br><br>\n",
    "Consider a DataFrame df where there is an integer column 'X'<br><br>\n",
    "import pandas as pd<br><br>\n",
    "df = pd.DataFrame({'X': [7, 2, 0, 3, 4, 2, 5, 0, 3, 4]})"
   ]
  },
  {
   "cell_type": "code",
   "execution_count": 2,
   "metadata": {},
   "outputs": [
    {
     "data": {
      "text/html": [
       "<div>\n",
       "<style scoped>\n",
       "    .dataframe tbody tr th:only-of-type {\n",
       "        vertical-align: middle;\n",
       "    }\n",
       "\n",
       "    .dataframe tbody tr th {\n",
       "        vertical-align: top;\n",
       "    }\n",
       "\n",
       "    .dataframe thead th {\n",
       "        text-align: right;\n",
       "    }\n",
       "</style>\n",
       "<table border=\"1\" class=\"dataframe\">\n",
       "  <thead>\n",
       "    <tr style=\"text-align: right;\">\n",
       "      <th></th>\n",
       "      <th>X</th>\n",
       "      <th>z</th>\n",
       "    </tr>\n",
       "  </thead>\n",
       "  <tbody>\n",
       "    <tr>\n",
       "      <th>0</th>\n",
       "      <td>7</td>\n",
       "      <td>0</td>\n",
       "    </tr>\n",
       "    <tr>\n",
       "      <th>1</th>\n",
       "      <td>2</td>\n",
       "      <td>1</td>\n",
       "    </tr>\n",
       "    <tr>\n",
       "      <th>2</th>\n",
       "      <td>0</td>\n",
       "      <td>0</td>\n",
       "    </tr>\n",
       "    <tr>\n",
       "      <th>3</th>\n",
       "      <td>3</td>\n",
       "      <td>1</td>\n",
       "    </tr>\n",
       "    <tr>\n",
       "      <th>4</th>\n",
       "      <td>4</td>\n",
       "      <td>2</td>\n",
       "    </tr>\n",
       "    <tr>\n",
       "      <th>5</th>\n",
       "      <td>2</td>\n",
       "      <td>3</td>\n",
       "    </tr>\n",
       "    <tr>\n",
       "      <th>6</th>\n",
       "      <td>5</td>\n",
       "      <td>4</td>\n",
       "    </tr>\n",
       "    <tr>\n",
       "      <th>7</th>\n",
       "      <td>0</td>\n",
       "      <td>0</td>\n",
       "    </tr>\n",
       "    <tr>\n",
       "      <th>8</th>\n",
       "      <td>3</td>\n",
       "      <td>1</td>\n",
       "    </tr>\n",
       "    <tr>\n",
       "      <th>9</th>\n",
       "      <td>4</td>\n",
       "      <td>2</td>\n",
       "    </tr>\n",
       "  </tbody>\n",
       "</table>\n",
       "</div>"
      ],
      "text/plain": [
       "   X  z\n",
       "0  7  0\n",
       "1  2  1\n",
       "2  0  0\n",
       "3  3  1\n",
       "4  4  2\n",
       "5  2  3\n",
       "6  5  4\n",
       "7  0  0\n",
       "8  3  1\n",
       "9  4  2"
      ]
     },
     "execution_count": 2,
     "metadata": {},
     "output_type": "execute_result"
    }
   ],
   "source": [
    "import pandas as pd\n",
    "\n",
    "df = pd.DataFrame({'X': [7, 2, 0, 3, 4, 2, 5, 0, 3, 4]})\n",
    "distance = []\n",
    "for x in df.index:\n",
    "    \n",
    "    if(x <= 1):\n",
    "        distance.append(x)\n",
    "    elif(x <= 6):\n",
    "        \n",
    "        distance.append(x-2)\n",
    "    elif(x >=7 and x <=10):\n",
    "        distance.append(x-7)\n",
    "        \n",
    "#print(distance)\n",
    "df['z'] =  distance\n",
    "df.head(10)"
   ]
  },
  {
   "cell_type": "markdown",
   "metadata": {},
   "source": [
    "##### 2\n",
    "Create a DatetimeIndex that contains each business day of 2015 and use it to index a Series of\n",
    "random numbers."
   ]
  },
  {
   "cell_type": "code",
   "execution_count": 3,
   "metadata": {},
   "outputs": [
    {
     "data": {
      "text/plain": [
       "2015-01-01     68\n",
       "2015-01-02    172\n",
       "2015-01-05    242\n",
       "2015-01-06     16\n",
       "2015-01-07    227\n",
       "2015-01-08    137\n",
       "2015-01-09    189\n",
       "2015-01-12     18\n",
       "2015-01-13    177\n",
       "2015-01-14     52\n",
       "2015-01-15     83\n",
       "2015-01-16     35\n",
       "2015-01-19    127\n",
       "2015-01-20    226\n",
       "2015-01-21    117\n",
       "2015-01-22    154\n",
       "2015-01-23     44\n",
       "2015-01-26     55\n",
       "2015-01-27    230\n",
       "2015-01-28     15\n",
       "2015-01-29    254\n",
       "2015-01-30    255\n",
       "2015-02-02    100\n",
       "2015-02-03    179\n",
       "2015-02-04     84\n",
       "2015-02-05    111\n",
       "2015-02-06      9\n",
       "2015-02-09    188\n",
       "2015-02-10    210\n",
       "2015-02-11    153\n",
       "             ... \n",
       "2015-11-20     13\n",
       "2015-11-23    227\n",
       "2015-11-24    202\n",
       "2015-11-25    258\n",
       "2015-11-26    260\n",
       "2015-11-27    177\n",
       "2015-11-30     87\n",
       "2015-12-01    158\n",
       "2015-12-02     43\n",
       "2015-12-03    178\n",
       "2015-12-04    122\n",
       "2015-12-07    205\n",
       "2015-12-08    237\n",
       "2015-12-09    186\n",
       "2015-12-10    204\n",
       "2015-12-11     87\n",
       "2015-12-14    220\n",
       "2015-12-15    156\n",
       "2015-12-16    249\n",
       "2015-12-17     62\n",
       "2015-12-18    220\n",
       "2015-12-21      5\n",
       "2015-12-22    174\n",
       "2015-12-23     75\n",
       "2015-12-24    146\n",
       "2015-12-25    231\n",
       "2015-12-28     58\n",
       "2015-12-29    163\n",
       "2015-12-30    121\n",
       "2015-12-31    202\n",
       "Freq: B, Length: 261, dtype: int32"
      ]
     },
     "execution_count": 3,
     "metadata": {},
     "output_type": "execute_result"
    }
   ],
   "source": [
    "import datetime as dt\n",
    "import pandas as pd\n",
    "import random as rand\n",
    "import numpy as np\n",
    "\n",
    "start = dt.datetime(2015, 1, 1)\n",
    "end = dt.datetime(2015, 12, 31)\n",
    "col = ['Random_No']\n",
    "index = pd.bdate_range(start, end)\n",
    "list_of_series = pd.Series(np.random.randint(1,index.size,index.size),index=index)\n",
    "list_of_series\n",
    "\n"
   ]
  },
  {
   "cell_type": "markdown",
   "metadata": {},
   "source": [
    "</r>"
   ]
  },
  {
   "cell_type": "markdown",
   "metadata": {},
   "source": [
    "##### 3 <br>\n",
    "\n",
    "Find the sum of the values in s for every Wednesday"
   ]
  },
  {
   "cell_type": "code",
   "execution_count": 4,
   "metadata": {},
   "outputs": [
    {
     "name": "stdout",
     "output_type": "stream",
     "text": [
      "sum of the values in s for every Wednesday is 7327\n"
     ]
    }
   ],
   "source": [
    "df = pd.DataFrame(list_of_series, columns=col)\n",
    "\n",
    "df['WeekDay'] = index.weekday_name\n",
    "#df.index.name='Index_No'\n",
    "wednesday_random_no= df[df['WeekDay']=='Wednesday'].Random_No\n",
    "print(\"sum of the values in s for every Wednesday is {}\".format(wednesday_random_no.sum()))\n",
    "\n"
   ]
  },
  {
   "cell_type": "markdown",
   "metadata": {},
   "source": [
    "#### 4\n",
    "\n",
    "Average For each calendar month"
   ]
  },
  {
   "cell_type": "code",
   "execution_count": 5,
   "metadata": {},
   "outputs": [
    {
     "name": "stdout",
     "output_type": "stream",
     "text": [
      "First option -- Average For each calendar month\n",
      "              Random_No\n",
      "2015-01-31  131.500000\n",
      "2015-02-28  126.250000\n",
      "2015-03-31  143.500000\n",
      "2015-04-30   97.181818\n",
      "2015-05-31  150.095238\n",
      "2015-06-30  147.772727\n",
      "2015-07-31  131.043478\n",
      "2015-08-31  129.809524\n",
      "2015-09-30  129.954545\n",
      "2015-10-31  147.772727\n",
      "2015-11-30  128.142857\n",
      "2015-12-31  152.260870 \n",
      "\n",
      "\n",
      "Second option -- Average For each calendar month\n",
      "      Random_No\n",
      "1   131.500000\n",
      "2   126.250000\n",
      "3   143.500000\n",
      "4    97.181818\n",
      "5   150.095238\n",
      "6   147.772727\n",
      "7   131.043478\n",
      "8   129.809524\n",
      "9   129.954545\n",
      "10  147.772727\n",
      "11  128.142857\n",
      "12  152.260870 \n",
      "\n",
      "\n",
      "Third option -- Average For each calendar month\n",
      "      Random_No\n",
      "1   131.500000\n",
      "2   126.250000\n",
      "3   143.500000\n",
      "4    97.181818\n",
      "5   150.095238\n",
      "6   147.772727\n",
      "7   131.043478\n",
      "8   129.809524\n",
      "9   129.954545\n",
      "10  147.772727\n",
      "11  128.142857\n",
      "12  152.260870 \n",
      "\n",
      "\n"
     ]
    }
   ],
   "source": [
    "\"\"\"First option to calculate Average\"\"\"\n",
    "average_each_calendar=df.groupby(pd.Grouper(freq=\"M\")).mean()\n",
    "print(\"First option -- Average For each calendar month\\n\",average_each_calendar,\"\\n\\n\")\n",
    "\n",
    "\"\"\"Second option to calculate Average\"\"\"\n",
    "print(\"Second option -- Average For each calendar month\\n\",df.groupby(df.index.month).mean(),\"\\n\\n\")\n",
    "\n",
    "\"\"\"Third option to calculate Average\"\"\"\n",
    "print(\"Third option -- Average For each calendar month\\n\",df.groupby(df.index.month).agg({'Random_No':'mean'}),\"\\n\\n\")"
   ]
  },
  {
   "cell_type": "markdown",
   "metadata": {},
   "source": [
    "#### 5\n",
    "\n",
    "For each group of four consecutive calendar months in s, find the date on which the highest\n",
    "value occurred."
   ]
  },
  {
   "cell_type": "code",
   "execution_count": 6,
   "metadata": {},
   "outputs": [
    {
     "data": {
      "text/html": [
       "<div>\n",
       "<style scoped>\n",
       "    .dataframe tbody tr th:only-of-type {\n",
       "        vertical-align: middle;\n",
       "    }\n",
       "\n",
       "    .dataframe tbody tr th {\n",
       "        vertical-align: top;\n",
       "    }\n",
       "\n",
       "    .dataframe thead th {\n",
       "        text-align: right;\n",
       "    }\n",
       "</style>\n",
       "<table border=\"1\" class=\"dataframe\">\n",
       "  <thead>\n",
       "    <tr style=\"text-align: right;\">\n",
       "      <th></th>\n",
       "      <th>Random_No</th>\n",
       "      <th>WeekDay</th>\n",
       "    </tr>\n",
       "  </thead>\n",
       "  <tbody>\n",
       "    <tr>\n",
       "      <th>2015-05-01</th>\n",
       "      <td>257</td>\n",
       "      <td>Wednesday</td>\n",
       "    </tr>\n",
       "    <tr>\n",
       "      <th>2015-09-01</th>\n",
       "      <td>252</td>\n",
       "      <td>Wednesday</td>\n",
       "    </tr>\n",
       "    <tr>\n",
       "      <th>2016-01-01</th>\n",
       "      <td>260</td>\n",
       "      <td>Wednesday</td>\n",
       "    </tr>\n",
       "  </tbody>\n",
       "</table>\n",
       "</div>"
      ],
      "text/plain": [
       "            Random_No    WeekDay\n",
       "2015-05-01        257  Wednesday\n",
       "2015-09-01        252  Wednesday\n",
       "2016-01-01        260  Wednesday"
      ]
     },
     "execution_count": 6,
     "metadata": {},
     "output_type": "execute_result"
    }
   ],
   "source": [
    "df.groupby(pd.Grouper(freq='4MS',label='right')).max()"
   ]
  },
  {
   "cell_type": "code",
   "execution_count": null,
   "metadata": {},
   "outputs": [],
   "source": []
  },
  {
   "cell_type": "code",
   "execution_count": null,
   "metadata": {},
   "outputs": [],
   "source": []
  }
 ],
 "metadata": {
  "kernelspec": {
   "display_name": "Python 3",
   "language": "python",
   "name": "python3"
  },
  "language_info": {
   "codemirror_mode": {
    "name": "ipython",
    "version": 3
   },
   "file_extension": ".py",
   "mimetype": "text/x-python",
   "name": "python",
   "nbconvert_exporter": "python",
   "pygments_lexer": "ipython3",
   "version": "3.7.0"
  }
 },
 "nbformat": 4,
 "nbformat_minor": 2
}
